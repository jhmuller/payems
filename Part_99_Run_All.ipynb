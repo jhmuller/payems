{
 "cells": [
  {
   "cell_type": "markdown",
   "metadata": {},
   "source": [
    "   # Part10: Run Notebooks\n"
   ]
  },
  {
   "cell_type": "code",
   "execution_count": 1,
   "metadata": {
    "ExecuteTime": {
     "end_time": "2020-11-24T06:51:17.881958Z",
     "start_time": "2020-11-24T06:51:16.914536Z"
    }
   },
   "outputs": [
    {
     "name": "stdout",
     "output_type": "stream",
     "text": [
      "sys.version_info(major=3, minor=9, micro=2, releaselevel='final', serial=0)\n"
     ]
    }
   ],
   "source": [
    "import os\n",
    "import sys\n",
    "import time\n",
    "import datetime\n",
    "import touch\n",
    "import inspect\n",
    "import numpy\n",
    "import pandas as pd\n",
    "print(sys.version_info)"
   ]
  },
  {
   "cell_type": "code",
   "execution_count": 2,
   "metadata": {},
   "outputs": [
    {
     "name": "stdout",
     "output_type": "stream",
     "text": [
      "version 3.9.2 of Python\n",
      "No __version__ for touch as touch\n",
      "version numpy of numpy as 1.20.1 \n",
      "version pd of pandas as 1.2.3 \n"
     ]
    }
   ],
   "source": [
    "mlist = list(filter(lambda x: inspect.ismodule(x[1]), locals().items()))\n",
    "vi = sys.version_info\n",
    "print(\"version {0}.{1}.{2} of Python\".format(vi.major, vi.minor, vi.micro))\n",
    "for name, mod in mlist:\n",
    "    mname = name\n",
    "    if name.startswith(\"__\"):\n",
    "        continue\n",
    "    if hasattr(mod, \"__version__\"):\n",
    "        mname = name\n",
    "        if hasattr(mod, \"__path__\"):\n",
    "            mname = os.path.split(mod.__path__[0])[1]\n",
    "        print(\"version {1} of {0} as {2} \".format(mname, name, mod.__version__))\n",
    "    elif hasattr(mod, \"__file__\") and \"site-packages\" in mod.__file__:\n",
    "        print(\"No __version__ for {0} as {1}\".format(mname, name))\n",
    "del mod\n",
    "del name"
   ]
  },
  {
   "cell_type": "code",
   "execution_count": 3,
   "metadata": {
    "ExecuteTime": {
     "end_time": "2020-11-24T06:51:39.513160Z",
     "start_time": "2020-11-24T06:51:39.333165Z"
    }
   },
   "outputs": [],
   "source": [
    "# to get the names of notebook files in a directory\n",
    "def get_project_notebooks():\n",
    "    from nbformat import read, NO_CONVERT\n",
    "    import os\n",
    "    import datetime\n",
    "    proj_nbs = []\n",
    "    nbs = [f for f in os.listdir() if f.endswith(\".ipynb\")]\n",
    "    part_nbs = [f for f in nbs if f.startswith(\"Part\")]\n",
    "    return(part_nbs)\n"
   ]
  },
  {
   "cell_type": "code",
   "execution_count": 4,
   "metadata": {
    "ExecuteTime": {
     "end_time": "2020-11-24T06:51:41.721852Z",
     "start_time": "2020-11-24T06:51:41.685659Z"
    }
   },
   "outputs": [],
   "source": [
    "# print the source code for a cell\n",
    "def print_source(cell):\n",
    "    print(\"type cell= {0}\".format(type(cell)))\n",
    "    src = cell[\"source\"]\n",
    "    lines = src.split(\"\\n\")\n",
    "    print(\"{0} lines\".format(len(lines)))\n",
    "    for i,line in enumerate(lines):\n",
    "        print(\"({0}){1}\".format(i, line))\n",
    "\n",
    "# run notebook code\n",
    "def run_nb_code(nbfile):\n",
    "    from nbformat import read, NO_CONVERT\n",
    "    import os\n",
    "    import datetime\n",
    "    res = \"Start time: \" + str(datetime.datetime.now())\n",
    "    with open(nbfile) as fp:\n",
    "        notebook = read(fp, NO_CONVERT)\n",
    "    cells = notebook['cells']\n",
    "    code_cells = [c for c in cells if c['cell_type'] == 'code']\n",
    "    for i, cell in enumerate(code_cells):\n",
    "        src = cell['source']\n",
    "        #print(\"{0}<{1}>\".format(li, line))                \n",
    "        try:\n",
    "            exec(src, globals(), locals())\n",
    "        except Exception as e:\n",
    "            print(\"Error on cell {0}\\n\".format(i))\n",
    "            print(src)\n",
    "            print_source(cell)\n",
    "            exc_type, exc_obj, exc_tb = sys.exc_info()\n",
    "            import traceback\n",
    "            traceback.print_tb(exc_tb)\n",
    "            fname = os.path.split(exc_tb.tb_frame.f_code.co_filename)[1]\n",
    "            print(exc_type, fname, exc_tb.tb_lineno)\n",
    "            return((exc_type, exc_obj, exc_tb, fname))\n",
    "    res += \"end: \" + str(datetime.datetime.now())\n",
    "    return res\n",
    "# run notebook code\n",
    "def get_first_cell_line(nbfile):\n",
    "    from nbformat import read, NO_CONVERT\n",
    "    import os\n",
    "    import datetime\n",
    "    res = \"Start time: \" + str(datetime.datetime.now())\n",
    "    with open(nbfile) as fp:\n",
    "        notebook = read(fp, NO_CONVERT)\n",
    "    cells = notebook['cells']\n",
    "    if not cells:\n",
    "        return \"\"\n",
    "    lines = cells[0][\"source\"].split(\"\\n\")\n",
    "    if not lines:\n",
    "        return \"\"\n",
    "    return lines[0]\n"
   ]
  },
  {
   "cell_type": "code",
   "execution_count": 5,
   "metadata": {
    "ExecuteTime": {
     "end_time": "2020-11-24T06:53:14.755733Z",
     "start_time": "2020-11-24T06:51:58.710791Z"
    }
   },
   "outputs": [
    {
     "name": "stdout",
     "output_type": "stream",
     "text": [
      "['Part_0_Setup.ipynb', 'Part_1_Intro_Overview.ipynb', 'Part_2_DataSources.ipynb', 'Part_3_Fred.ipynb', 'Part_4_Weekly_Claims.ipynb', 'Part_5_UMich_Sentiment.ipynb', 'Part_6_GoogleTrends.ipynb', 'Part_7_Plot_Claims.ipynb', 'Part_8_Combine_Datasets.ipynb']\n"
     ]
    }
   ],
   "source": [
    "def get_run_order(nb_names, verbosity=0):\n",
    "  tups = []\n",
    "  not_run = []\n",
    "  \n",
    "  for nb_name in nb_names:\n",
    "    if verbosity > 0:\n",
    "      print(nb_name)\n",
    "    name_parts = nb_name.split(\"_\")\n",
    "    if len(name_parts) < 2:\n",
    "      not_run.append((\"name doesn't start with 'Part'\", nb_name))\n",
    "      continue\n",
    "    elif name_parts[1] == \"99\":\n",
    "      not_run.append((\"runall\", nb_name))\n",
    "      continue\n",
    "    try:\n",
    "      id = int(name_parts[1])\n",
    "      tups.append((id, nb_name))\n",
    "    except:\n",
    "      not_run.append(\"can't convert {0} to int\".format(name_parts[1]), nb_name)\n",
    "  tups.sort()\n",
    "  to_run = [x[1] for x in tups]\n",
    "  return to_run, not_run\n",
    "  \n",
    "  \n",
    "nb_names = get_project_notebooks()\n",
    "\n",
    "to_run, not_run = get_run_order(nb_names, verbosity=0)\n",
    "print(to_run)"
   ]
  },
  {
   "cell_type": "code",
   "execution_count": 9,
   "metadata": {
    "ExecuteTime": {
     "end_time": "2020-11-24T06:53:14.755733Z",
     "start_time": "2020-11-24T06:51:58.710791Z"
    }
   },
   "outputs": [
    {
     "name": "stderr",
     "output_type": "stream",
     "text": [
      "Part_0_Setup.ipynb  <2021-11-02 11:25:59.690503>\n",
      "  done  <Part_0_Setup.ipynb>\n",
      "Part_1_Intro_Overview.ipynb  <2021-11-02 11:25:59.693495>\n",
      "  done  <Part_1_Intro_Overview.ipynb>\n",
      "Part_2_DataSources.ipynb  <2021-11-02 11:25:59.696032>\n",
      "  done  <Part_2_DataSources.ipynb>\n",
      "Part_3_Fred.ipynb  <2021-11-02 11:25:59.697990>\n",
      "  done  <Part_3_Fred.ipynb>\n",
      "Part_4_Weekly_Claims.ipynb  <2021-11-02 11:26:18.799586>\n",
      "  done  <Part_4_Weekly_Claims.ipynb>\n",
      "Part_5_UMich_Sentiment.ipynb  <2021-11-02 11:26:26.377131>\n",
      "  done  <Part_5_UMich_Sentiment.ipynb>\n",
      "Part_6_GoogleTrends.ipynb  <2021-11-02 11:26:31.142072>\n",
      "  done  <Part_6_GoogleTrends.ipynb>\n",
      "Part_7_Plot_Claims.ipynb  <2021-11-02 11:28:09.827292>\n",
      "  done  <Part_7_Plot_Claims.ipynb>\n",
      "Part_8_Combine_Datasets.ipynb  <2021-11-02 11:28:10.359765>\n"
     ]
    },
    {
     "ename": "NameError",
     "evalue": "name 'fulldf' is not defined",
     "output_type": "error",
     "traceback": [
      "\u001b[1;31m---------------------------------------------------------------------------\u001b[0m",
      "\u001b[1;31mNameError\u001b[0m                                 Traceback (most recent call last)",
      "\u001b[1;32m~\\Documents\\Github\\payems\\Part_8_Combine_Datasets.ipynb\u001b[0m in \u001b[0;36m<module>\u001b[1;34m\u001b[0m\n\u001b[0;32m     16\u001b[0m \u001b[0mtx\u001b[0m\u001b[1;33m.\u001b[0m\u001b[0mremove\u001b[0m\u001b[1;33m(\u001b[0m\u001b[0my_l1\u001b[0m\u001b[1;33m)\u001b[0m\u001b[1;33m\u001b[0m\u001b[1;33m\u001b[0m\u001b[0m\n\u001b[0;32m     17\u001b[0m \u001b[0mxcols\u001b[0m \u001b[1;33m=\u001b[0m \u001b[1;33m[\u001b[0m\u001b[0my_l1\u001b[0m\u001b[1;33m]\u001b[0m \u001b[1;33m+\u001b[0m \u001b[0mtx\u001b[0m\u001b[1;33m\u001b[0m\u001b[1;33m\u001b[0m\u001b[0m\n\u001b[1;32m---> 18\u001b[1;33m \u001b[0mfullx\u001b[0m \u001b[1;33m=\u001b[0m \u001b[0mfulldf\u001b[0m\u001b[1;33m[\u001b[0m\u001b[0mxcols\u001b[0m\u001b[1;33m]\u001b[0m\u001b[1;33m\u001b[0m\u001b[1;33m\u001b[0m\u001b[0m\n\u001b[0m\u001b[0;32m     19\u001b[0m \u001b[0mfullx\u001b[0m \u001b[1;33m=\u001b[0m \u001b[0mfullx\u001b[0m\u001b[1;33m.\u001b[0m\u001b[0mffill\u001b[0m\u001b[1;33m(\u001b[0m\u001b[1;33m)\u001b[0m\u001b[1;33m\u001b[0m\u001b[1;33m\u001b[0m\u001b[0m\n",
      "\u001b[1;31mNameError\u001b[0m: name 'fulldf' is not defined"
     ]
    },
    {
     "ename": "NameError",
     "evalue": "name 'fulldf' is not defined",
     "output_type": "error",
     "traceback": [
      "\u001b[1;31m---------------------------------------------------------------------------\u001b[0m",
      "\u001b[1;31mNameError\u001b[0m                                 Traceback (most recent call last)",
      "\u001b[1;32m<ipython-input-9-7dbf214f7061>\u001b[0m in \u001b[0;36m<module>\u001b[1;34m\u001b[0m\n\u001b[0;32m     14\u001b[0m       \u001b[1;32mcontinue\u001b[0m\u001b[1;33m\u001b[0m\u001b[1;33m\u001b[0m\u001b[0m\n\u001b[0;32m     15\u001b[0m     \u001b[0msys\u001b[0m\u001b[1;33m.\u001b[0m\u001b[0mstderr\u001b[0m\u001b[1;33m.\u001b[0m\u001b[0mwrite\u001b[0m\u001b[1;33m(\u001b[0m\u001b[1;34m\"{0}  <{1}>\\n\"\u001b[0m\u001b[1;33m.\u001b[0m\u001b[0mformat\u001b[0m\u001b[1;33m(\u001b[0m\u001b[0mnb_name\u001b[0m\u001b[1;33m,\u001b[0m \u001b[0mdatetime\u001b[0m\u001b[1;33m.\u001b[0m\u001b[0mdatetime\u001b[0m\u001b[1;33m.\u001b[0m\u001b[0mnow\u001b[0m\u001b[1;33m(\u001b[0m\u001b[1;33m)\u001b[0m\u001b[1;33m)\u001b[0m\u001b[1;33m)\u001b[0m\u001b[1;33m\u001b[0m\u001b[1;33m\u001b[0m\u001b[0m\n\u001b[1;32m---> 16\u001b[1;33m     \u001b[0mget_ipython\u001b[0m\u001b[1;33m(\u001b[0m\u001b[1;33m)\u001b[0m\u001b[1;33m.\u001b[0m\u001b[0mrun_line_magic\u001b[0m\u001b[1;33m(\u001b[0m\u001b[1;34m'run'\u001b[0m\u001b[1;33m,\u001b[0m \u001b[1;34m'$nb_name'\u001b[0m\u001b[1;33m)\u001b[0m\u001b[1;33m\u001b[0m\u001b[1;33m\u001b[0m\u001b[0m\n\u001b[0m\u001b[0;32m     17\u001b[0m     \u001b[0msys\u001b[0m\u001b[1;33m.\u001b[0m\u001b[0mstderr\u001b[0m\u001b[1;33m.\u001b[0m\u001b[0mwrite\u001b[0m\u001b[1;33m(\u001b[0m\u001b[1;34m\"  done  <{0}>\\n\"\u001b[0m\u001b[1;33m.\u001b[0m\u001b[0mformat\u001b[0m\u001b[1;33m(\u001b[0m\u001b[0mnb_name\u001b[0m\u001b[1;33m,\u001b[0m \u001b[0mdatetime\u001b[0m\u001b[1;33m.\u001b[0m\u001b[0mdatetime\u001b[0m\u001b[1;33m.\u001b[0m\u001b[0mnow\u001b[0m\u001b[1;33m(\u001b[0m\u001b[1;33m)\u001b[0m\u001b[1;33m)\u001b[0m\u001b[1;33m)\u001b[0m\u001b[1;33m\u001b[0m\u001b[1;33m\u001b[0m\u001b[0m\n",
      "\u001b[1;32m~\\Anaconda3\\envs\\payems\\lib\\site-packages\\IPython\\core\\interactiveshell.py\u001b[0m in \u001b[0;36mrun_line_magic\u001b[1;34m(self, magic_name, line, _stack_depth)\u001b[0m\n\u001b[0;32m   2342\u001b[0m                 \u001b[0mkwargs\u001b[0m\u001b[1;33m[\u001b[0m\u001b[1;34m'local_ns'\u001b[0m\u001b[1;33m]\u001b[0m \u001b[1;33m=\u001b[0m \u001b[0mself\u001b[0m\u001b[1;33m.\u001b[0m\u001b[0mget_local_scope\u001b[0m\u001b[1;33m(\u001b[0m\u001b[0mstack_depth\u001b[0m\u001b[1;33m)\u001b[0m\u001b[1;33m\u001b[0m\u001b[1;33m\u001b[0m\u001b[0m\n\u001b[0;32m   2343\u001b[0m             \u001b[1;32mwith\u001b[0m \u001b[0mself\u001b[0m\u001b[1;33m.\u001b[0m\u001b[0mbuiltin_trap\u001b[0m\u001b[1;33m:\u001b[0m\u001b[1;33m\u001b[0m\u001b[1;33m\u001b[0m\u001b[0m\n\u001b[1;32m-> 2344\u001b[1;33m                 \u001b[0mresult\u001b[0m \u001b[1;33m=\u001b[0m \u001b[0mfn\u001b[0m\u001b[1;33m(\u001b[0m\u001b[1;33m*\u001b[0m\u001b[0margs\u001b[0m\u001b[1;33m,\u001b[0m \u001b[1;33m**\u001b[0m\u001b[0mkwargs\u001b[0m\u001b[1;33m)\u001b[0m\u001b[1;33m\u001b[0m\u001b[1;33m\u001b[0m\u001b[0m\n\u001b[0m\u001b[0;32m   2345\u001b[0m             \u001b[1;32mreturn\u001b[0m \u001b[0mresult\u001b[0m\u001b[1;33m\u001b[0m\u001b[1;33m\u001b[0m\u001b[0m\n\u001b[0;32m   2346\u001b[0m \u001b[1;33m\u001b[0m\u001b[0m\n",
      "\u001b[1;32m<decorator-gen-53>\u001b[0m in \u001b[0;36mrun\u001b[1;34m(self, parameter_s, runner, file_finder)\u001b[0m\n",
      "\u001b[1;32m~\\Anaconda3\\envs\\payems\\lib\\site-packages\\IPython\\core\\magic.py\u001b[0m in \u001b[0;36m<lambda>\u001b[1;34m(f, *a, **k)\u001b[0m\n\u001b[0;32m    185\u001b[0m     \u001b[1;31m# but it's overkill for just that one bit of state.\u001b[0m\u001b[1;33m\u001b[0m\u001b[1;33m\u001b[0m\u001b[1;33m\u001b[0m\u001b[0m\n\u001b[0;32m    186\u001b[0m     \u001b[1;32mdef\u001b[0m \u001b[0mmagic_deco\u001b[0m\u001b[1;33m(\u001b[0m\u001b[0marg\u001b[0m\u001b[1;33m)\u001b[0m\u001b[1;33m:\u001b[0m\u001b[1;33m\u001b[0m\u001b[1;33m\u001b[0m\u001b[0m\n\u001b[1;32m--> 187\u001b[1;33m         \u001b[0mcall\u001b[0m \u001b[1;33m=\u001b[0m \u001b[1;32mlambda\u001b[0m \u001b[0mf\u001b[0m\u001b[1;33m,\u001b[0m \u001b[1;33m*\u001b[0m\u001b[0ma\u001b[0m\u001b[1;33m,\u001b[0m \u001b[1;33m**\u001b[0m\u001b[0mk\u001b[0m\u001b[1;33m:\u001b[0m \u001b[0mf\u001b[0m\u001b[1;33m(\u001b[0m\u001b[1;33m*\u001b[0m\u001b[0ma\u001b[0m\u001b[1;33m,\u001b[0m \u001b[1;33m**\u001b[0m\u001b[0mk\u001b[0m\u001b[1;33m)\u001b[0m\u001b[1;33m\u001b[0m\u001b[1;33m\u001b[0m\u001b[0m\n\u001b[0m\u001b[0;32m    188\u001b[0m \u001b[1;33m\u001b[0m\u001b[0m\n\u001b[0;32m    189\u001b[0m         \u001b[1;32mif\u001b[0m \u001b[0mcallable\u001b[0m\u001b[1;33m(\u001b[0m\u001b[0marg\u001b[0m\u001b[1;33m)\u001b[0m\u001b[1;33m:\u001b[0m\u001b[1;33m\u001b[0m\u001b[1;33m\u001b[0m\u001b[0m\n",
      "\u001b[1;32m~\\Anaconda3\\envs\\payems\\lib\\site-packages\\IPython\\core\\magics\\execution.py\u001b[0m in \u001b[0;36mrun\u001b[1;34m(self, parameter_s, runner, file_finder)\u001b[0m\n\u001b[0;32m    722\u001b[0m             \u001b[1;32mwith\u001b[0m \u001b[0mpreserve_keys\u001b[0m\u001b[1;33m(\u001b[0m\u001b[0mself\u001b[0m\u001b[1;33m.\u001b[0m\u001b[0mshell\u001b[0m\u001b[1;33m.\u001b[0m\u001b[0muser_ns\u001b[0m\u001b[1;33m,\u001b[0m \u001b[1;34m'__file__'\u001b[0m\u001b[1;33m)\u001b[0m\u001b[1;33m:\u001b[0m\u001b[1;33m\u001b[0m\u001b[1;33m\u001b[0m\u001b[0m\n\u001b[0;32m    723\u001b[0m                 \u001b[0mself\u001b[0m\u001b[1;33m.\u001b[0m\u001b[0mshell\u001b[0m\u001b[1;33m.\u001b[0m\u001b[0muser_ns\u001b[0m\u001b[1;33m[\u001b[0m\u001b[1;34m'__file__'\u001b[0m\u001b[1;33m]\u001b[0m \u001b[1;33m=\u001b[0m \u001b[0mfilename\u001b[0m\u001b[1;33m\u001b[0m\u001b[1;33m\u001b[0m\u001b[0m\n\u001b[1;32m--> 724\u001b[1;33m                 \u001b[0mself\u001b[0m\u001b[1;33m.\u001b[0m\u001b[0mshell\u001b[0m\u001b[1;33m.\u001b[0m\u001b[0msafe_execfile_ipy\u001b[0m\u001b[1;33m(\u001b[0m\u001b[0mfilename\u001b[0m\u001b[1;33m,\u001b[0m \u001b[0mraise_exceptions\u001b[0m\u001b[1;33m=\u001b[0m\u001b[1;32mTrue\u001b[0m\u001b[1;33m)\u001b[0m\u001b[1;33m\u001b[0m\u001b[1;33m\u001b[0m\u001b[0m\n\u001b[0m\u001b[0;32m    725\u001b[0m             \u001b[1;32mreturn\u001b[0m\u001b[1;33m\u001b[0m\u001b[1;33m\u001b[0m\u001b[0m\n\u001b[0;32m    726\u001b[0m \u001b[1;33m\u001b[0m\u001b[0m\n",
      "\u001b[1;32m~\\Anaconda3\\envs\\payems\\lib\\site-packages\\IPython\\core\\interactiveshell.py\u001b[0m in \u001b[0;36msafe_execfile_ipy\u001b[1;34m(self, fname, shell_futures, raise_exceptions)\u001b[0m\n\u001b[0;32m   2829\u001b[0m                     \u001b[0mresult\u001b[0m \u001b[1;33m=\u001b[0m \u001b[0mself\u001b[0m\u001b[1;33m.\u001b[0m\u001b[0mrun_cell\u001b[0m\u001b[1;33m(\u001b[0m\u001b[0mcell\u001b[0m\u001b[1;33m,\u001b[0m \u001b[0msilent\u001b[0m\u001b[1;33m=\u001b[0m\u001b[1;32mTrue\u001b[0m\u001b[1;33m,\u001b[0m \u001b[0mshell_futures\u001b[0m\u001b[1;33m=\u001b[0m\u001b[0mshell_futures\u001b[0m\u001b[1;33m)\u001b[0m\u001b[1;33m\u001b[0m\u001b[1;33m\u001b[0m\u001b[0m\n\u001b[0;32m   2830\u001b[0m                     \u001b[1;32mif\u001b[0m \u001b[0mraise_exceptions\u001b[0m\u001b[1;33m:\u001b[0m\u001b[1;33m\u001b[0m\u001b[1;33m\u001b[0m\u001b[0m\n\u001b[1;32m-> 2831\u001b[1;33m                         \u001b[0mresult\u001b[0m\u001b[1;33m.\u001b[0m\u001b[0mraise_error\u001b[0m\u001b[1;33m(\u001b[0m\u001b[1;33m)\u001b[0m\u001b[1;33m\u001b[0m\u001b[1;33m\u001b[0m\u001b[0m\n\u001b[0m\u001b[0;32m   2832\u001b[0m                     \u001b[1;32melif\u001b[0m \u001b[1;32mnot\u001b[0m \u001b[0mresult\u001b[0m\u001b[1;33m.\u001b[0m\u001b[0msuccess\u001b[0m\u001b[1;33m:\u001b[0m\u001b[1;33m\u001b[0m\u001b[1;33m\u001b[0m\u001b[0m\n\u001b[0;32m   2833\u001b[0m                         \u001b[1;32mbreak\u001b[0m\u001b[1;33m\u001b[0m\u001b[1;33m\u001b[0m\u001b[0m\n",
      "\u001b[1;32m~\\Anaconda3\\envs\\payems\\lib\\site-packages\\IPython\\core\\interactiveshell.py\u001b[0m in \u001b[0;36mraise_error\u001b[1;34m(self)\u001b[0m\n\u001b[0;32m    329\u001b[0m             \u001b[1;32mraise\u001b[0m \u001b[0mself\u001b[0m\u001b[1;33m.\u001b[0m\u001b[0merror_before_exec\u001b[0m\u001b[1;33m\u001b[0m\u001b[1;33m\u001b[0m\u001b[0m\n\u001b[0;32m    330\u001b[0m         \u001b[1;32mif\u001b[0m \u001b[0mself\u001b[0m\u001b[1;33m.\u001b[0m\u001b[0merror_in_exec\u001b[0m \u001b[1;32mis\u001b[0m \u001b[1;32mnot\u001b[0m \u001b[1;32mNone\u001b[0m\u001b[1;33m:\u001b[0m\u001b[1;33m\u001b[0m\u001b[1;33m\u001b[0m\u001b[0m\n\u001b[1;32m--> 331\u001b[1;33m             \u001b[1;32mraise\u001b[0m \u001b[0mself\u001b[0m\u001b[1;33m.\u001b[0m\u001b[0merror_in_exec\u001b[0m\u001b[1;33m\u001b[0m\u001b[1;33m\u001b[0m\u001b[0m\n\u001b[0m\u001b[0;32m    332\u001b[0m \u001b[1;33m\u001b[0m\u001b[0m\n\u001b[0;32m    333\u001b[0m     \u001b[1;32mdef\u001b[0m \u001b[0m__repr__\u001b[0m\u001b[1;33m(\u001b[0m\u001b[0mself\u001b[0m\u001b[1;33m)\u001b[0m\u001b[1;33m:\u001b[0m\u001b[1;33m\u001b[0m\u001b[1;33m\u001b[0m\u001b[0m\n",
      "    \u001b[1;31m[... skipping hidden 1 frame]\u001b[0m\n",
      "\u001b[1;32m<ipython-input-9-31cd3f5554f7>\u001b[0m in \u001b[0;36m<module>\u001b[1;34m\u001b[0m\n\u001b[0;32m     16\u001b[0m \u001b[0mtx\u001b[0m\u001b[1;33m.\u001b[0m\u001b[0mremove\u001b[0m\u001b[1;33m(\u001b[0m\u001b[0my_l1\u001b[0m\u001b[1;33m)\u001b[0m\u001b[1;33m\u001b[0m\u001b[1;33m\u001b[0m\u001b[0m\n\u001b[0;32m     17\u001b[0m \u001b[0mxcols\u001b[0m \u001b[1;33m=\u001b[0m \u001b[1;33m[\u001b[0m\u001b[0my_l1\u001b[0m\u001b[1;33m]\u001b[0m \u001b[1;33m+\u001b[0m \u001b[0mtx\u001b[0m\u001b[1;33m\u001b[0m\u001b[1;33m\u001b[0m\u001b[0m\n\u001b[1;32m---> 18\u001b[1;33m \u001b[0mfullx\u001b[0m \u001b[1;33m=\u001b[0m \u001b[0mfulldf\u001b[0m\u001b[1;33m[\u001b[0m\u001b[0mxcols\u001b[0m\u001b[1;33m]\u001b[0m\u001b[1;33m\u001b[0m\u001b[1;33m\u001b[0m\u001b[0m\n\u001b[0m\u001b[0;32m     19\u001b[0m \u001b[0mfullx\u001b[0m \u001b[1;33m=\u001b[0m \u001b[0mfullx\u001b[0m\u001b[1;33m.\u001b[0m\u001b[0mffill\u001b[0m\u001b[1;33m(\u001b[0m\u001b[1;33m)\u001b[0m\u001b[1;33m\u001b[0m\u001b[1;33m\u001b[0m\u001b[0m\n",
      "\u001b[1;31mNameError\u001b[0m: name 'fulldf' is not defined"
     ]
    }
   ],
   "source": [
    "%%capture --no-stderr nb_out\n",
    "def extract_part(name):\n",
    "  parts = name.split(\"_\")\n",
    "  try:\n",
    "    part = int(parts[1])\n",
    "    return part\n",
    "  except:\n",
    "    exc_type, exc_obj, exc_tb = sys.exc_info()\n",
    "    fname = os.path.split(exc_tb.tb_frame.f_code.co_filename)[1]\n",
    "    print(exc_type, fname, exc_tb.tb_lineno)     \n",
    "    \n",
    "for nb_name in to_run:\n",
    "    part = extract_part(nb_name)\n",
    "    if part < 0:\n",
    "      continue\n",
    "    sys.stderr.write(\"{0}  <{1}>\\n\".format(nb_name, datetime.datetime.now()))\n",
    "    %run $nb_name\n",
    "    sys.stderr.write(\"  done  <{0}>\\n\".format(nb_name, datetime.datetime.now()))    "
   ]
  },
  {
   "cell_type": "code",
   "execution_count": 7,
   "metadata": {},
   "outputs": [
    {
     "name": "stdout",
     "output_type": "stream",
     "text": [
      "version 3.9.2 of Python\n",
      "version 1.20.1 of numpy\n",
      "version 1.2.3 of pd\n",
      "version 1.20.1 of np\n",
      "version 3.3.4 of mpl\n",
      "series: PAYEMS, obs_start: 2010-01-01, obs_end: 2021-11-02\n",
      "get_series_all_releases <2021-11-02 11:05:34.886080\n",
      "(1107, 3)\n",
      "rows= 141\n",
      "series: USPRIV, obs_start: 2010-01-01, obs_end: 2021-11-02\n",
      "get_series_all_releases <2021-11-02 11:05:35.468883\n",
      "(1107, 3)\n",
      "rows= 141\n",
      "series: NPPTTL, obs_start: 2010-01-01, obs_end: 2021-11-02\n",
      "get_series_all_releases <2021-11-02 11:05:36.028408\n",
      "(1521, 3)\n",
      "rows= 141\n",
      "series: ICSA, obs_start: 2010-01-01, obs_end: 2021-11-02\n",
      "get_series_all_releases <2021-11-02 11:05:36.646222\n",
      "(3444, 3)\n",
      "rows= 617\n",
      "series: CCSA, obs_start: 2010-01-01, obs_end: 2021-11-02\n",
      "get_series_all_releases <2021-11-02 11:05:37.668904\n",
      "(3817, 3)\n",
      "rows= 616\n",
      "series: JTS1000JOL, obs_start: 2010-01-01, obs_end: 2021-11-02\n",
      "get_series_all_releases <2021-11-02 11:05:38.765210\n",
      "(930, 3)\n",
      "rows= 140\n",
      "series: JTS1000HIL, obs_start: 2010-01-01, obs_end: 2021-11-02\n",
      "get_series_all_releases <2021-11-02 11:05:39.222906\n",
      "(859, 3)\n",
      "rows= 140\n",
      "series: JTS1000TSL, obs_start: 2010-01-01, obs_end: 2021-11-02\n",
      "get_series_all_releases <2021-11-02 11:05:39.683615\n",
      "(925, 3)\n",
      "rows= 140\n",
      "series: CSCICP03USM665S, obs_start: 2010-01-01, obs_end: 2021-11-02\n",
      "get_series_all_releases <2021-11-02 11:05:40.257952\n",
      "(8131, 3)\n",
      "rows= 141\n",
      "series: BSCICP03USM665S, obs_start: 2010-01-01, obs_end: 2021-11-02\n",
      "get_series_all_releases <2021-11-02 11:05:42.190082\n",
      "(8063, 3)\n",
      "rows= 141\n",
      "series: UNRATE, obs_start: 2010-01-01, obs_end: 2021-11-02\n",
      "get_series_all_releases <2021-11-02 11:05:44.909552\n",
      "(250, 3)\n",
      "rows= 141\n",
      "series: UNEMPLOY, obs_start: 2010-01-01, obs_end: 2021-11-02\n",
      "get_series_all_releases <2021-11-02 11:05:45.279192\n",
      "(663, 3)\n",
      "rows= 141\n",
      "series: CLF16OV, obs_start: 2010-01-01, obs_end: 2021-11-02\n",
      "get_series_all_releases <2021-11-02 11:05:45.684770\n",
      "(668, 3)\n",
      "rows= 141\n",
      "series: UEMP27OV, obs_start: 2010-01-01, obs_end: 2021-11-02\n",
      "get_series_all_releases <2021-11-02 11:05:46.088525\n",
      "(658, 3)\n",
      "rows= 141\n",
      "series: U6Rate, obs_start: 2010-01-01, obs_end: 2021-11-02\n",
      "get_series_all_releases <2021-11-02 11:05:46.515209\n",
      "(320, 3)\n",
      "rows= 141\n",
      "series: CIVPART, obs_start: 2010-01-01, obs_end: 2021-11-02\n",
      "get_series_all_releases <2021-11-02 11:05:46.774019\n",
      "(255, 3)\n",
      "rows= 141\n",
      "series: LNS12032194, obs_start: 2010-01-01, obs_end: 2021-11-02\n",
      "get_series_all_releases <2021-11-02 11:05:47.122787\n",
      "(654, 3)\n",
      "rows= 141\n",
      "2021-11-02 11:05:52.558358\n",
      "2021-11-02 11:05:52.566308\n",
      "2021-11-02 11:05:58.743703\n",
      "['Unnamed: 6', 'Unnamed: 7']\n",
      "dropping columns ['Unnamed: 6', 'Unnamed: 7']\n",
      "weekly_pandemic_claims.xlsx\n",
      "all the data cols [['PUA IC', 'PUA CC', 'PEUC CC']] are numeric\n",
      "Plotting IC\n",
      "Plotting CC\n",
      "version 3.9.2 of Python\n",
      "version 1.20.1 of numpy\n",
      "version 1.2.3 of pd\n",
      "version 1.20.1 of np\n",
      "version 3.3.4 of mpl\n",
      "version 2.2.1 of re\n",
      "version 2.25.1 of requests\n",
      "version 2.0.1 of xlrd\n",
      "version 3.141.0 of selenium\n",
      "version 3.14.1 of webdriver\n",
      "set()\n",
      "{'sca-table5-on-2021-Nov-02.csv'}\n",
      "new file: ./data/temp\\sca-table5-on-2021-Nov-02.csv\n",
      "Index(['Month', 'Year', 'Personal Finance Current',\n",
      "       'Personal Finance Expected', 'Business Condition 12 Months',\n",
      "       'Business Condition 5 Years', 'Buying Conditions', 'Current Index',\n",
      "       'Expected Index', 'Unnamed: 9'],\n",
      "      dtype='object')\n",
      "2021-11-02 11:06:11.228302\n",
      "version 3.9.2 of Python\n",
      "start dt 2013-11-12,  end_dt 2021-11-02\n",
      "Start 2021-11-02 11:06:21.293642\n",
      "<kw#1='jobs''>, <kw#2='work''>, <kw#3='indeed jobs''>, <kw#4='jobs near me''>, <kw#5='work from home''>, <kw#6='jobs indeed near me''>, <kw#7='jobs hiring near me''>, <kw#8='jobs work from home''>, <kw#9='indeed jobs hiring near me''>, <kw#10='part time jobs hiring''>, <kw#11='hiring jobs near me part time''>, <kw#12='jobs near me hiring part time''>, <kw#13='work from home amazon''>, <kw#14='part time jobs hiring near me''>, <kw#15='hiring part time near me''>, <kw#16='jobs part time near me''>, <kw#17='job hiring near me''>, <kw#18='work from home jobs''>, <kw#19='amazon jobs work from home''>, <kw#20='jobs near me part time hiring''>, <kw#21='hiring near me part time''>, <kw#22='work from home amazon jobs near me''>, <kw#23='amazon careers''>, <kw#24='amazon careers near me''>, <kw#25='amazon jobs''>, <kw#26='amazon near me''>, <kw#27='amazon near me jobs''>, <kw#28='jobs near me hiring''>, Done 2021-11-02 11:06:44.632722\n",
      "Found 28 queries\n",
      "2013-11-12\n",
      " 0 of 28, jobs near me hiring\n",
      " 1 of 28, amazon jobs\n",
      " 2 of 28, amazon careers near me\n",
      " 3 of 28, amazon careers\n",
      " 4 of 28, work from home amazon jobs near me\n",
      " 5 of 28, hiring near me part time\n",
      " 6 of 28, amazon jobs work from home\n",
      " 7 of 28, jobs part time near me\n",
      " 8 of 28, amazon near me jobs\n",
      " 9 of 28, amazon near me\n",
      " 10 of 28, jobs near me part time hiring\n",
      " 11 of 28, work from home jobs\n",
      " 12 of 28, job hiring near me\n",
      " 13 of 28, hiring part time near me\n",
      " 14 of 28, part time jobs hiring near me\n",
      " 15 of 28, hiring jobs near me part time\n",
      " 16 of 28, part time jobs hiring\n",
      "\n"
     ]
    }
   ],
   "source": [
    "print(nb_out.stdout)"
   ]
  },
  {
   "cell_type": "code",
   "execution_count": 8,
   "metadata": {},
   "outputs": [
    {
     "name": "stdout",
     "output_type": "stream",
     "text": [
      "2021-11-02 11:07:10.488786\n"
     ]
    }
   ],
   "source": [
    "import datetime\n",
    "print(datetime.datetime.now())"
   ]
  },
  {
   "cell_type": "code",
   "execution_count": null,
   "metadata": {},
   "outputs": [],
   "source": []
  }
 ],
 "metadata": {
  "kernelspec": {
   "display_name": "payems",
   "language": "python",
   "name": "payems"
  },
  "language_info": {
   "codemirror_mode": {
    "name": "ipython",
    "version": 3
   },
   "file_extension": ".py",
   "mimetype": "text/x-python",
   "name": "python",
   "nbconvert_exporter": "python",
   "pygments_lexer": "ipython3",
   "version": "3.9.2"
  }
 },
 "nbformat": 4,
 "nbformat_minor": 4
}
