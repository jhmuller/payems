{
 "cells": [
  {
   "cell_type": "markdown",
   "metadata": {},
   "source": [
    "# Part0: Environment and Issues\n",
    "### some issues I had and ways around them\n"
   ]
  },
  {
   "cell_type": "markdown",
   "metadata": {},
   "source": [
    "## Environment\n",
    "\n",
    "Some features of my environment\n",
    "* Windows 10, but also testing on Linux/Ubuntu\n",
    "* Anaconda\n",
    "\n"
   ]
  },
  {
   "cell_type": "markdown",
   "metadata": {},
   "source": [
    "##  Issue: numpy\n",
    "version 1.19.4 seems to create problems\n",
    "uninstall 1.19.4 and install version 1.19.3\n",
    "\n",
    "2021-05-04: I think this issue has been resolved\n"
   ]
  },
  {
   "cell_type": "markdown",
   "metadata": {},
   "source": [
    "## Issue: zmq \n",
    "fatal error C1083: Cannot open include file: 'zmq.h': No such file or directory\n",
    "\n",
    "uninstall and reinstall pyzmq\n",
    "> pip uninstall pyzmq\n",
    "> pip install pyzmq"
   ]
  },
  {
   "cell_type": "markdown",
   "metadata": {},
   "source": [
    "## Issue: ssl\n",
    "If pip complains about ssl, eg.   \n",
    "WARNING: pip is configured with locations that require TLS/SSL, however the ssl module in Python is not available.\n",
    "    \n",
    "following [this](https://github.com/conda/conda/issues/8273)\n",
    "\n",
    "Copy the following files \n",
    "* libcrypto-1_1-x64.dll\n",
    "* libcrypto-1_1-x64.pdb\n",
    "* libssl-1_1-x64.dll\n",
    "* libssl-1_1-x64.pdb\n",
    "\n",
    "From : C:\\Users\\MyUser\\Miniconda3\\Library\\bin   \n",
    "To: C:\\Users\\MyUser\\Miniconda3\\DLLs\n",
    " \n"
   ]
  }
 ],
 "metadata": {
  "kernelspec": {
   "display_name": "payems",
   "language": "python",
   "name": "payems"
  },
  "language_info": {
   "codemirror_mode": {
    "name": "ipython",
    "version": 3
   },
   "file_extension": ".py",
   "mimetype": "text/x-python",
   "name": "python",
   "nbconvert_exporter": "python",
   "pygments_lexer": "ipython3",
   "version": "3.9.2"
  }
 },
 "nbformat": 4,
 "nbformat_minor": 4
}
