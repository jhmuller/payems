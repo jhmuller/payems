{
 "cells": [
  {
   "cell_type": "markdown",
   "metadata": {},
   "source": [
    "# Part 1 - Introduction and Overview\n",
    "\n",
    "- toc: True\n",
    "- badges: true\n",
    "- comments: true\n",
    "- categories: [jupyter]"
   ]
  },
  {
   "cell_type": "markdown",
   "metadata": {},
   "source": [
    "This is the first of a series of posts in which I plan to talk about a real world prediction problem,\n",
    "predicting the change in one of the monthly government macro economic values.\n",
    "In particular, I will look at predicting the change in the number of people working for US private employers in a given month.\n",
    "The number of people working in the US is compiled by the U.S Bureau of Labor Statistics,\n",
    "<a target=\"_blank\" href=\"https://www.bls.gov/\">BLS</a>, and is published monthly\n",
    "on the first Friday of each month.\n",
    "Of interest is not so much the value, or level as it is often call, but the <em> change </em> in the value. \n",
    "\n",
    "The value published is an estimate of people employed\n",
    "in the prior month.  For example, the value published on Friday 2020-10-02 gives an estimate\n",
    "of the number of people employed in September 2020. \n",
    "The number are published in a report currently called\n",
    "the <a target=\"_blank\" href=\"https://www.bls.gov/news.release/empsit.toc.htm\">Employment Situation</a>.\n",
    "\n",
    "There are actually many numbers in the report the BLS publishes with two main types, unemployment and jobs.\n",
    "The unemployment numbers come from a survey of households and the jobs numbers\n",
    "come from a survey of businesses.\n",
    "For the jobs number there is an aggregate value, i.e. for the entire US, and then breakdowns into private versus government\n",
    "and then many further breakdowns by industry type and other things.\n",
    " Suffice it to say that there is a lot of data in the report but I am only going to focus on\n",
    " the number of <em> private </em> jobs added in a month. The reason to focus on private and not the sum of private and government\n",
    " is becuase of some other data I want to use and it only covers private jobs.\n",
    "<br>\n",
    "Why do this?  For me it's to practice data science with real data on an important problem.\n",
    "The jobs number is one of the measures of the health of the economy.\n",
    "I'm writing this in October 2020 with a presidential election coming next month.\n",
    "The report released on October 2nd got a lot of attention in the press.\n",
    "Both the stock and bond markets pay attention to the releases too.\n",
    "Back in 2007 I worked in the investment group of a large bank and I recall that when the numbers\n",
    "came out, usually around 8:30 AM New York time, they were announced for all the traders to hear.\n",
    "As evidence of the potential impact on the markets see \n",
    "<a target=\"_blank\" href=\"https://www.investopedia.com/articles/04/092204.asp\">here</a>,\n",
    "<a target=\"_blank\" href=\"https://www.coursera.org/lecture/financial-markets-intro/1-jobs-report-countrys-fuel-nuAhi\">here</a>,\n",
    "<a target=\"_blank\" href=\"https://www.thebalance.com/the-monthly-jobs-report-and-its-impact-on-the-bond-market-416878\">here</a>,\n",
    "or better still just google it.\n",
    "\n",
    "You might ask *WHy not just predict the S&P 500 or something like that* if we are interested in the markets.\n",
    "  Well, we might get to that later.\n",
    "Some potential methods are described in the papers listed below.\n",
    "*  Generative Adversarial Network for Stock Market price Prediction\n",
    "* EMPIRICAL ASSET PRICING VIA MACHINE LEARNING\n",
    "\n",
    "I plan to use a variety of techniques including Time Series Regression, Ensemble methods such as Random Forests, and hopefully Neural Networks.\n",
    "I'm interested not only in how the perform out of sample but also how hard it is to build the models and\n",
    "how interpretable the model is."
   ]
  }
 ],
 "metadata": {
  "kernelspec": {
   "display_name": "Python 3",
   "language": "python",
   "name": "python3"
  },
  "language_info": {
   "codemirror_mode": {
    "name": "ipython",
    "version": 3
   },
   "file_extension": ".py",
   "mimetype": "text/x-python",
   "name": "python",
   "nbconvert_exporter": "python",
   "pygments_lexer": "ipython3",
   "version": "3.9.2"
  }
 },
 "nbformat": 4,
 "nbformat_minor": 4
}
