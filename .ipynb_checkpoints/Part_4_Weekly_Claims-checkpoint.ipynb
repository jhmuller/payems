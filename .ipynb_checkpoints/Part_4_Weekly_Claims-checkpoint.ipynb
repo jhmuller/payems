{
 "cells": [
  {
   "cell_type": "markdown",
   "metadata": {},
   "source": [
    "# Part 4 - New data on Weekly Claims\n",
    "\n",
    "- toc: True\n",
    "- badges: true\n",
    "- comments: true\n",
    "- categories: [jupyter]"
   ]
  },
  {
   "cell_type": "markdown",
   "metadata": {},
   "source": [
    "I was scanning a WSJ article today on jobless claims, \n",
    "https://www.wsj.com/articles/weekly-jobless-claims-coronavirus-10-29-2020-11603921724?modtag=djemBestOfTheWeb\n",
    "The article started by claiming that initial claims filings had fallen to their lowest level since the pandemic began.\n",
    "This didn't seem interesting because according to FRED you could have been saying that since May.\n",
    "Seems like saying I am as old as I've ever been. But then I noticed a chart showing \n",
    "claims under Regular state programs *plus* claims under special pandemic programs ... and for continued claims the special pandemic numbers were about the same as the regular ones.  Uh oh, so the claims could be 2x what I would get from FRED and the normal BLS data.  I could not find any data on these new plans on FRED but did find a spreadsheet on the Department of Labor website, see https://oui.doleta.gov/unemploy/DataDashboard.asp\n",
    "\n",
    "The data might be available on the DOL or BLS site via some API. Not sure yet.\n",
    "In any case, in this post I will read in that data and plot it.  Later I will figure out how to integreate it with the rest.\n"
   ]
  },
  {
   "cell_type": "code",
   "execution_count": 1,
   "metadata": {
    "ExecuteTime": {
     "end_time": "2020-11-23T20:54:29.246279Z",
     "start_time": "2020-11-23T20:54:29.239278Z"
    }
   },
   "outputs": [],
   "source": [
    "import os\n",
    "import sys\n",
    "import datetime\n",
    "from collections import defaultdict\n",
    "import pandas as pd\n",
    "import numpy as np\n",
    "import time\n",
    "import re\n",
    "from IPython.display import display\n",
    "import requests\n",
    "from PyPDF2 import PdfFileReader\n",
    "from plotnine import ggplot\n",
    "import matplotlib as mpl\n",
    "import xlrd\n",
    "import matplotlib.pyplot as plt\n",
    "import selenium\n",
    "from selenium import webdriver\n",
    "from selenium.webdriver.support.ui import Select\n",
    "import pathlib\n",
    "import shutil"
   ]
  },
  {
   "cell_type": "code",
   "execution_count": 2,
   "metadata": {},
   "outputs": [
    {
     "data": {
      "text/html": [
       "<style>div.output_scroll { height: 60em; }</style>"
      ],
      "text/plain": [
       "<IPython.core.display.HTML object>"
      ]
     },
     "metadata": {},
     "output_type": "display_data"
    },
    {
     "data": {
      "text/html": [
       "<style>.container { width:100% !important; }</style>"
      ],
      "text/plain": [
       "<IPython.core.display.HTML object>"
      ]
     },
     "metadata": {},
     "output_type": "display_data"
    }
   ],
   "source": [
    "from IPython.core.display import display, HTML\n",
    "display(HTML(\"<style>div.output_scroll { height: 60em; }</style>\"))\n",
    "display(HTML(\"<style>.container { width:100% !important; }</style>\"))"
   ]
  },
  {
   "cell_type": "code",
   "execution_count": 3,
   "metadata": {
    "ExecuteTime": {
     "end_time": "2020-11-23T20:54:33.535368Z",
     "start_time": "2020-11-23T20:54:33.529369Z"
    }
   },
   "outputs": [],
   "source": [
    "# set the temp directory for downloading data\n",
    "temp_dir = \"./data/temp\"\n",
    "if not os.path.isdir(temp_dir):\n",
    "    os.mkdir(temp_dir)\n",
    "prefs = {\"download.default_directory\" : os.path.abspath(temp_dir)}\n",
    "\n",
    "options = webdriver.ChromeOptions()\n",
    "options.add_experimental_option(\"prefs\",prefs)\n",
    "options.add_argument(\"download.default_directory=\"+os.path.abspath(temp_dir))"
   ]
  },
  {
   "cell_type": "code",
   "execution_count": 4,
   "metadata": {
    "ExecuteTime": {
     "end_time": "2020-11-23T20:54:38.335507Z",
     "start_time": "2020-11-23T20:54:38.321502Z"
    }
   },
   "outputs": [],
   "source": [
    "# function to get filepath of most recently downloaded file\n",
    "def get_downloaded_fpath(data_dir=None, files_before=None, file_ext=\".csv\",\n",
    "                   max_wait = 10, verbosity=0):\n",
    "    import time\n",
    "    done = False\n",
    "    start_time = datetime.datetime.now()\n",
    "    while not done:\n",
    "        files_after = set(os.listdir(data_dir))\n",
    "        new_files = files_after.difference(set(files_before))\n",
    "        if verbosity > 0:\n",
    "            print(\"Files Before: {0}\".format(files_before))\n",
    "            print(\"Files After: {0}\".format(files_after))\n",
    "            print(\"New Files: {0}\".format(new_files))\n",
    "        if verbosity > 0:\n",
    "            print(new_files)\n",
    "        for fname in new_files:\n",
    "            if os.path.splitext(fname)[1] == file_ext:\n",
    "                return (os.path.join(data_dir, fname))\n",
    "        cur_time = datetime.datetime.now()\n",
    "        if (cur_time - start_time).seconds > max_wait:\n",
    "            return None\n",
    "        time.sleep(0.5)"
   ]
  },
  {
   "cell_type": "code",
   "execution_count": 5,
   "metadata": {},
   "outputs": [
    {
     "ename": "WebDriverException",
     "evalue": "Message: 'chromedriver.exe' executable needs to be in PATH. Please see https://sites.google.com/a/chromium.org/chromedriver/home\n",
     "output_type": "error",
     "traceback": [
      "\u001b[1;31m---------------------------------------------------------------------------\u001b[0m",
      "\u001b[1;31mFileNotFoundError\u001b[0m                         Traceback (most recent call last)",
      "\u001b[1;32m~\\Anaconda3\\envs\\payems\\lib\\site-packages\\selenium\\webdriver\\common\\service.py\u001b[0m in \u001b[0;36mstart\u001b[1;34m(self)\u001b[0m\n\u001b[0;32m     71\u001b[0m             \u001b[0mcmd\u001b[0m\u001b[1;33m.\u001b[0m\u001b[0mextend\u001b[0m\u001b[1;33m(\u001b[0m\u001b[0mself\u001b[0m\u001b[1;33m.\u001b[0m\u001b[0mcommand_line_args\u001b[0m\u001b[1;33m(\u001b[0m\u001b[1;33m)\u001b[0m\u001b[1;33m)\u001b[0m\u001b[1;33m\u001b[0m\u001b[1;33m\u001b[0m\u001b[0m\n\u001b[1;32m---> 72\u001b[1;33m             self.process = subprocess.Popen(cmd, env=self.env,\n\u001b[0m\u001b[0;32m     73\u001b[0m                                             \u001b[0mclose_fds\u001b[0m\u001b[1;33m=\u001b[0m\u001b[0mplatform\u001b[0m\u001b[1;33m.\u001b[0m\u001b[0msystem\u001b[0m\u001b[1;33m(\u001b[0m\u001b[1;33m)\u001b[0m \u001b[1;33m!=\u001b[0m \u001b[1;34m'Windows'\u001b[0m\u001b[1;33m,\u001b[0m\u001b[1;33m\u001b[0m\u001b[1;33m\u001b[0m\u001b[0m\n",
      "\u001b[1;32m~\\Anaconda3\\envs\\payems\\lib\\subprocess.py\u001b[0m in \u001b[0;36m__init__\u001b[1;34m(self, args, bufsize, executable, stdin, stdout, stderr, preexec_fn, close_fds, shell, cwd, env, universal_newlines, startupinfo, creationflags, restore_signals, start_new_session, pass_fds, user, group, extra_groups, encoding, errors, text, umask)\u001b[0m\n\u001b[0;32m    950\u001b[0m \u001b[1;33m\u001b[0m\u001b[0m\n\u001b[1;32m--> 951\u001b[1;33m             self._execute_child(args, executable, preexec_fn, close_fds,\n\u001b[0m\u001b[0;32m    952\u001b[0m                                 \u001b[0mpass_fds\u001b[0m\u001b[1;33m,\u001b[0m \u001b[0mcwd\u001b[0m\u001b[1;33m,\u001b[0m \u001b[0menv\u001b[0m\u001b[1;33m,\u001b[0m\u001b[1;33m\u001b[0m\u001b[1;33m\u001b[0m\u001b[0m\n",
      "\u001b[1;32m~\\Anaconda3\\envs\\payems\\lib\\subprocess.py\u001b[0m in \u001b[0;36m_execute_child\u001b[1;34m(self, args, executable, preexec_fn, close_fds, pass_fds, cwd, env, startupinfo, creationflags, shell, p2cread, p2cwrite, c2pread, c2pwrite, errread, errwrite, unused_restore_signals, unused_gid, unused_gids, unused_uid, unused_umask, unused_start_new_session)\u001b[0m\n\u001b[0;32m   1419\u001b[0m             \u001b[1;32mtry\u001b[0m\u001b[1;33m:\u001b[0m\u001b[1;33m\u001b[0m\u001b[1;33m\u001b[0m\u001b[0m\n\u001b[1;32m-> 1420\u001b[1;33m                 hp, ht, pid, tid = _winapi.CreateProcess(executable, args,\n\u001b[0m\u001b[0;32m   1421\u001b[0m                                          \u001b[1;31m# no special security\u001b[0m\u001b[1;33m\u001b[0m\u001b[1;33m\u001b[0m\u001b[1;33m\u001b[0m\u001b[0m\n",
      "\u001b[1;31mFileNotFoundError\u001b[0m: [WinError 2] The system cannot find the file specified",
      "\nDuring handling of the above exception, another exception occurred:\n",
      "\u001b[1;31mWebDriverException\u001b[0m                        Traceback (most recent call last)",
      "\u001b[1;32m<ipython-input-5-0f92bc1404a5>\u001b[0m in \u001b[0;36m<module>\u001b[1;34m\u001b[0m\n\u001b[0;32m      1\u001b[0m \u001b[1;31m# use chromedriver to open url\u001b[0m\u001b[1;33m\u001b[0m\u001b[1;33m\u001b[0m\u001b[1;33m\u001b[0m\u001b[0m\n\u001b[0;32m      2\u001b[0m \u001b[0mchromedriver_path\u001b[0m \u001b[1;33m=\u001b[0m \u001b[0mos\u001b[0m\u001b[1;33m.\u001b[0m\u001b[0mpath\u001b[0m\u001b[1;33m.\u001b[0m\u001b[0mjoin\u001b[0m\u001b[1;33m(\u001b[0m\u001b[1;34m'../chromedriver.exe'\u001b[0m\u001b[1;33m)\u001b[0m\u001b[1;33m\u001b[0m\u001b[1;33m\u001b[0m\u001b[0m\n\u001b[1;32m----> 3\u001b[1;33m \u001b[0mdriver\u001b[0m \u001b[1;33m=\u001b[0m \u001b[0mwebdriver\u001b[0m\u001b[1;33m.\u001b[0m\u001b[0mChrome\u001b[0m\u001b[1;33m(\u001b[0m\u001b[0mexecutable_path\u001b[0m\u001b[1;33m=\u001b[0m\u001b[0mchromedriver_path\u001b[0m\u001b[1;33m,\u001b[0m \u001b[0moptions\u001b[0m\u001b[1;33m=\u001b[0m\u001b[0moptions\u001b[0m\u001b[1;33m)\u001b[0m\u001b[1;33m\u001b[0m\u001b[1;33m\u001b[0m\u001b[0m\n\u001b[0m\u001b[0;32m      4\u001b[0m \u001b[0murl\u001b[0m \u001b[1;33m=\u001b[0m \u001b[1;34m\"https://oui.doleta.gov/unemploy/DataDashboard.asp\"\u001b[0m\u001b[1;33m\u001b[0m\u001b[1;33m\u001b[0m\u001b[0m\n\u001b[0;32m      5\u001b[0m \u001b[0mdriver\u001b[0m\u001b[1;33m.\u001b[0m\u001b[0mget\u001b[0m\u001b[1;33m(\u001b[0m\u001b[0murl\u001b[0m\u001b[1;33m)\u001b[0m\u001b[1;33m\u001b[0m\u001b[1;33m\u001b[0m\u001b[0m\n",
      "\u001b[1;32m~\\Anaconda3\\envs\\payems\\lib\\site-packages\\selenium\\webdriver\\chrome\\webdriver.py\u001b[0m in \u001b[0;36m__init__\u001b[1;34m(self, executable_path, port, options, service_args, desired_capabilities, service_log_path, chrome_options, keep_alive)\u001b[0m\n\u001b[0;32m     71\u001b[0m             \u001b[0mservice_args\u001b[0m\u001b[1;33m=\u001b[0m\u001b[0mservice_args\u001b[0m\u001b[1;33m,\u001b[0m\u001b[1;33m\u001b[0m\u001b[1;33m\u001b[0m\u001b[0m\n\u001b[0;32m     72\u001b[0m             log_path=service_log_path)\n\u001b[1;32m---> 73\u001b[1;33m         \u001b[0mself\u001b[0m\u001b[1;33m.\u001b[0m\u001b[0mservice\u001b[0m\u001b[1;33m.\u001b[0m\u001b[0mstart\u001b[0m\u001b[1;33m(\u001b[0m\u001b[1;33m)\u001b[0m\u001b[1;33m\u001b[0m\u001b[1;33m\u001b[0m\u001b[0m\n\u001b[0m\u001b[0;32m     74\u001b[0m \u001b[1;33m\u001b[0m\u001b[0m\n\u001b[0;32m     75\u001b[0m         \u001b[1;32mtry\u001b[0m\u001b[1;33m:\u001b[0m\u001b[1;33m\u001b[0m\u001b[1;33m\u001b[0m\u001b[0m\n",
      "\u001b[1;32m~\\Anaconda3\\envs\\payems\\lib\\site-packages\\selenium\\webdriver\\common\\service.py\u001b[0m in \u001b[0;36mstart\u001b[1;34m(self)\u001b[0m\n\u001b[0;32m     79\u001b[0m         \u001b[1;32mexcept\u001b[0m \u001b[0mOSError\u001b[0m \u001b[1;32mas\u001b[0m \u001b[0merr\u001b[0m\u001b[1;33m:\u001b[0m\u001b[1;33m\u001b[0m\u001b[1;33m\u001b[0m\u001b[0m\n\u001b[0;32m     80\u001b[0m             \u001b[1;32mif\u001b[0m \u001b[0merr\u001b[0m\u001b[1;33m.\u001b[0m\u001b[0merrno\u001b[0m \u001b[1;33m==\u001b[0m \u001b[0merrno\u001b[0m\u001b[1;33m.\u001b[0m\u001b[0mENOENT\u001b[0m\u001b[1;33m:\u001b[0m\u001b[1;33m\u001b[0m\u001b[1;33m\u001b[0m\u001b[0m\n\u001b[1;32m---> 81\u001b[1;33m                 raise WebDriverException(\n\u001b[0m\u001b[0;32m     82\u001b[0m                     \"'%s' executable needs to be in PATH. %s\" % (\n\u001b[0;32m     83\u001b[0m                         os.path.basename(self.path), self.start_error_message)\n",
      "\u001b[1;31mWebDriverException\u001b[0m: Message: 'chromedriver.exe' executable needs to be in PATH. Please see https://sites.google.com/a/chromium.org/chromedriver/home\n"
     ]
    }
   ],
   "source": [
    "# use chromedriver to open url\n",
    "chromedriver_path = os.path.join('../chromedriver.exe')\n",
    "driver = webdriver.Chrome(executable_path=chromedriver_path, options=options)\n",
    "url = \"https://oui.doleta.gov/unemploy/DataDashboard.asp\"\n",
    "driver.get(url)"
   ]
  },
  {
   "cell_type": "code",
   "execution_count": null,
   "metadata": {},
   "outputs": [],
   "source": [
    "files_before = set(os.listdir(temp_dir))\n",
    "time.sleep(1)\n",
    "el = driver.find_element_by_link_text(\"Weekly Pandemic Claims Data\")\n",
    "el.click()\n",
    "downloaded_fpath = get_downloaded_fpath(data_dir=temp_dir, files_before=files_before, file_ext=\".xlsx\", max_wait=3, verbosity=0)\n",
    "if not downloaded_fpath:\n",
    "    raise Exception(\"No downloaded file found!\")\n",
    "\n",
    "def clean_filename(fpath):\n",
    "    import re\n",
    "    head, tail = os.path.split(downloaded_fpath)\n",
    "    base, ext = os.path.splitext(tail)\n",
    "    pattern = \"(.*)(\\(\\d*\\))\"\n",
    "    match = re.match(pattern, base)\n",
    "    if  match:\n",
    "        base = match.group(1).strip()\n",
    "    new_fname = base + ext    \n",
    "    return new_fname\n",
    "  \n",
    "temp_df = pd.read_excel(downloaded_fpath)\n",
    "# remove bogus cols\n",
    "bcols = [c for c  in list(temp_df.columns) if c.startswith(\"Unnamed\")]\n",
    "print(bcols)\n",
    "if len(bcols) > 0:\n",
    "  print(\"dropping columns {0}\".format(bcols))\n",
    "  temp_df.drop(bcols, axis=1, inplace=True)\n",
    "\n",
    "display(temp_df.head(2))\n",
    "data_dir = \"./data\"\n",
    "new_fname = clean_filename(downloaded_fpath)\n",
    "new_fpath = os.path.join(data_dir, new_fname)\n",
    "print(new_fname)\n",
    "temp_df.to_csv(new_fpath, index=False)"
   ]
  },
  {
   "cell_type": "markdown",
   "metadata": {},
   "source": [
    "## Clean up"
   ]
  },
  {
   "cell_type": "code",
   "execution_count": null,
   "metadata": {
    "ExecuteTime": {
     "end_time": "2020-11-23T20:48:27.180968Z",
     "start_time": "2020-11-23T20:48:24.809461Z"
    }
   },
   "outputs": [],
   "source": [
    "if os.path.isfile(new_fpath):\n",
    "    # stop driver and remove old directory\n",
    "    driver.quit()\n",
    "    shutil.rmtree(temp_dir)"
   ]
  },
  {
   "cell_type": "markdown",
   "metadata": {},
   "source": [
    "## Read \n",
    "Read in the spreadsheet and get rid of rows with no data for Rptdate"
   ]
  },
  {
   "cell_type": "code",
   "execution_count": null,
   "metadata": {
    "ExecuteTime": {
     "end_time": "2020-10-30T01:00:05.886058Z",
     "start_time": "2020-10-30T01:00:05.412059Z"
    }
   },
   "outputs": [],
   "source": [
    "data_dir = \"./data\"\n",
    "new_fpath = os.path.join(data_dir, new_fname)\n",
    "states_df = pd.read_csv(new_fpath)\n",
    "states_df = states_df[states_df['Rptdate'].notna()]\n",
    "states_df.rename(columns={\"Rptdate\":\"date\"}, inplace=True)\n",
    "display(states_df.tail(3))"
   ]
  },
  {
   "cell_type": "code",
   "execution_count": null,
   "metadata": {},
   "outputs": [],
   "source": [
    "# can't remember why I needed thos\n",
    "# must have encountered non-numeric or object columns in the data\n",
    "data_cols = [c for c in states_df.columns if re.search(\"CC|IC\", c)]\n",
    "ocols = []\n",
    "for col in data_cols:\n",
    "    if states_df[col].dtype == 'object':\n",
    "        ocols.append(col)\n",
    "if not ocols:\n",
    "    print(f\"all the data cols [{data_cols}] are numeric\")\n",
    "else:\n",
    "    # try to convert object columns to numeric\n",
    "    numeric_rows = states_df[data_cols].apply(lambda x: pd.Series(x).str.isnumeric(), axis=0).all(axis=1)\n",
    "    print(f\"found {0} non numeric rows\".format(states_df.shape[0]-numeric_rows))\n",
    "    states_df = states_df.loc[numeric_rows]\n",
    "    print(f\"{ocols} are object, should be numeric\")\n",
    "    for col in ocols: \n",
    "        states_df[col] = states_df[col].astype(float)"
   ]
  },
  {
   "cell_type": "code",
   "execution_count": null,
   "metadata": {},
   "outputs": [],
   "source": [
    "# agg state datta to create US level data\n",
    "states_df['date'] = pd.to_datetime(states_df['date'])\n",
    "us_df = states_df.drop(labels=[\"State\"], axis=1).groupby(by='date')\n",
    "us_df = us_df.sum(min_count=1)\n",
    "us_df.dropna(how=\"any\", inplace=True)\n",
    "#us_df.tail()\n",
    "us_df.to_csv(os.path.join(\"./data\", \"us_pau_claims.csv\"))"
   ]
  },
  {
   "cell_type": "markdown",
   "metadata": {},
   "source": [
    "## Plot\n",
    "For now I'm not interested in the state breakdown so I'll aggregate to US level\n",
    "and also separte out Initial Claims, IC, from Continued Claims, CC.\n",
    "Partly because the CC values are about 10x the IC values so easier to see and check the IC data if plotted alone. \n",
    "Also because there is data on 2 different special programs for CC."
   ]
  },
  {
   "cell_type": "code",
   "execution_count": null,
   "metadata": {
    "ExecuteTime": {
     "end_time": "2020-10-30T01:00:06.644903Z",
     "start_time": "2020-10-30T01:00:05.914060Z"
    }
   },
   "outputs": [],
   "source": [
    "ic_df = us_df[['PUA IC']].reset_index()\n",
    "cc_df = us_df.drop('PUA IC', axis=1).reset_index()\n",
    "cc_df['CC Tot'] = cc_df[[\"PUA CC\",\"PEUC CC\"]].sum(axis=1, skipna=False)\n",
    "display(cc_df.tail())\n",
    "weekly_dfs = {\"IC\":ic_df, \"CC\":cc_df}\n",
    "\n",
    "figwd = 12\n",
    "fight= 6\n",
    "fig, axs = plt.subplots(nrows=2, ncols=1, figsize=[figwd, fight], sharex=True)\n",
    "for i, key in enumerate(weekly_dfs.keys()):\n",
    "    print(f\"Plotting {key}\")\n",
    "    ax = axs[i]\n",
    "    weekly_dfs[key].plot(ax=ax, x='date',  kind='line', linestyle='-', marker='o', lw=1, title=key,\n",
    "               mec='red', mfc='black', ms=0.75, legend=True, label=None, grid=True)"
   ]
  },
  {
   "cell_type": "code",
   "execution_count": null,
   "metadata": {},
   "outputs": [],
   "source": []
  }
 ],
 "metadata": {
  "kernelspec": {
   "display_name": "payems",
   "language": "python",
   "name": "payems"
  },
  "language_info": {
   "codemirror_mode": {
    "name": "ipython",
    "version": 3
   },
   "file_extension": ".py",
   "mimetype": "text/x-python",
   "name": "python",
   "nbconvert_exporter": "python",
   "pygments_lexer": "ipython3",
   "version": "3.9.2"
  }
 },
 "nbformat": 4,
 "nbformat_minor": 4
}
