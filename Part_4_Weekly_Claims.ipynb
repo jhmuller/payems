{
 "cells": [
  {
   "cell_type": "markdown",
   "metadata": {},
   "source": [
    "# Part 4 - New data on Weekly Claims\n",
    "\n",
    "- toc: True\n",
    "- badges: true\n",
    "- comments: true\n",
    "- categories: [jupyter]"
   ]
  },
  {
   "cell_type": "markdown",
   "metadata": {},
   "source": [
    "I was scanning a WSJ article today on jobless claims, \n",
    "https://www.wsj.com/articles/weekly-jobless-claims-coronavirus-10-29-2020-11603921724?modtag=djemBestOfTheWeb\n",
    "The article started by claiming that initial claims filings had fallen to their lowest level since the pandemic began.\n",
    "This didn't seem interesting because according to FRED you could have been saying that since May.\n",
    "Seems like saying I am as old as I've ever been. But then I noticed a chart showing \n",
    "claims under Regular state programs *plus* claims under special pandemic programs ... and for continued claims the special pandemic numbers were about the same as the regular ones.  Uh oh, so the claims could be 2x what I would get from FRED and the normal BLS data.  I could not find any data on these new plans on FRED but did find a spreadsheet on the Department of Labor website, see https://oui.doleta.gov/unemploy/DataDashboard.asp\n",
    "\n",
    "The data might be available on the DOL or BLS site via some API. Not sure yet.\n",
    "In any case, in this post I will read in that data and plot it.  Later I will figure out how to integreate it with the rest.\n"
   ]
  },
  {
   "cell_type": "code",
   "execution_count": 1,
   "metadata": {
    "ExecuteTime": {
     "end_time": "2020-11-23T20:54:29.246279Z",
     "start_time": "2020-11-23T20:54:29.239278Z"
    }
   },
   "outputs": [],
   "source": [
    "import os\n",
    "import sys\n",
    "import datetime\n",
    "from collections import defaultdict\n",
    "import pandas as pd\n",
    "import numpy as np\n",
    "import time\n",
    "import re\n",
    "from IPython.display import display\n",
    "import requests\n",
    "from PyPDF2 import PdfFileReader\n",
    "from plotnine import ggplot\n",
    "import matplotlib as mpl\n",
    "import xlrd\n",
    "import matplotlib.pyplot as plt\n",
    "import selenium\n",
    "from selenium import webdriver\n",
    "from selenium.webdriver.support.ui import Select\n",
    "import pathlib\n",
    "import shutil"
   ]
  },
  {
   "cell_type": "code",
   "execution_count": 2,
   "metadata": {},
   "outputs": [
    {
     "data": {
      "text/html": [
       "<style>div.output_scroll { height: 60em; }</style>"
      ],
      "text/plain": [
       "<IPython.core.display.HTML object>"
      ]
     },
     "metadata": {},
     "output_type": "display_data"
    },
    {
     "data": {
      "text/html": [
       "<style>.container { width:100% !important; }</style>"
      ],
      "text/plain": [
       "<IPython.core.display.HTML object>"
      ]
     },
     "metadata": {},
     "output_type": "display_data"
    }
   ],
   "source": [
    "from IPython.core.display import display, HTML\n",
    "display(HTML(\"<style>div.output_scroll { height: 60em; }</style>\"))\n",
    "display(HTML(\"<style>.container { width:100% !important; }</style>\"))"
   ]
  },
  {
   "cell_type": "code",
   "execution_count": 3,
   "metadata": {
    "ExecuteTime": {
     "end_time": "2020-11-23T20:54:33.535368Z",
     "start_time": "2020-11-23T20:54:33.529369Z"
    }
   },
   "outputs": [],
   "source": [
    "# set the temp directory for downloading data\n",
    "temp_dir = \"./data/temp\"\n",
    "if not os.path.isdir(temp_dir):\n",
    "    os.mkdir(temp_dir)\n",
    "prefs = {\"download.default_directory\" : os.path.abspath(temp_dir)}\n",
    "\n",
    "options = webdriver.ChromeOptions()\n",
    "options.add_experimental_option(\"prefs\",prefs)\n",
    "options.add_argument(\"download.default_directory=\"+os.path.abspath(temp_dir))"
   ]
  },
  {
   "cell_type": "code",
   "execution_count": 4,
   "metadata": {
    "ExecuteTime": {
     "end_time": "2020-11-23T20:54:38.335507Z",
     "start_time": "2020-11-23T20:54:38.321502Z"
    }
   },
   "outputs": [],
   "source": [
    "# function to get filepath of most recently downloaded file\n",
    "def get_downloaded_fpath(data_dir=None, files_before=None, file_ext=\".csv\",\n",
    "                   max_wait = 10, verbosity=0):\n",
    "    import time\n",
    "    done = False\n",
    "    start_time = datetime.datetime.now()\n",
    "    while not done:\n",
    "        files_after = set(os.listdir(data_dir))\n",
    "        new_files = files_after.difference(set(files_before))\n",
    "        if verbosity > 0:\n",
    "            print(\"Files Before: {0}\".format(files_before))\n",
    "            print(\"Files After: {0}\".format(files_after))\n",
    "            print(\"New Files: {0}\".format(new_files))\n",
    "        if verbosity > 0:\n",
    "            print(new_files)\n",
    "        for fname in new_files:\n",
    "            if os.path.splitext(fname)[1] == file_ext:\n",
    "                return (os.path.join(data_dir, fname))\n",
    "        cur_time = datetime.datetime.now()\n",
    "        if (cur_time - start_time).seconds > max_wait:\n",
    "            return None\n",
    "        time.sleep(0.5)"
   ]
  },
  {
   "cell_type": "code",
   "execution_count": 5,
   "metadata": {},
   "outputs": [],
   "source": [
    "# use chromedriver to open url\n",
    "chromedriver_path = os.path.join('chromedriver.exe')\n",
    "driver = webdriver.Chrome(executable_path=chromedriver_path, options=options)\n",
    "url = \"https://oui.doleta.gov/unemploy/DataDashboard.asp\"\n",
    "driver.get(url)"
   ]
  },
  {
   "cell_type": "code",
   "execution_count": 6,
   "metadata": {},
   "outputs": [
    {
     "name": "stdout",
     "output_type": "stream",
     "text": [
      "['Unnamed: 6', 'Unnamed: 7']\n",
      "dropping columns ['Unnamed: 6', 'Unnamed: 7']\n"
     ]
    },
    {
     "data": {
      "text/html": [
       "<div>\n",
       "<style scoped>\n",
       "    .dataframe tbody tr th:only-of-type {\n",
       "        vertical-align: middle;\n",
       "    }\n",
       "\n",
       "    .dataframe tbody tr th {\n",
       "        vertical-align: top;\n",
       "    }\n",
       "\n",
       "    .dataframe thead th {\n",
       "        text-align: right;\n",
       "    }\n",
       "</style>\n",
       "<table border=\"1\" class=\"dataframe\">\n",
       "  <thead>\n",
       "    <tr style=\"text-align: right;\">\n",
       "      <th></th>\n",
       "      <th>State</th>\n",
       "      <th>Rptdate</th>\n",
       "      <th>PUA IC</th>\n",
       "      <th>Reflect Date</th>\n",
       "      <th>PUA CC</th>\n",
       "      <th>PEUC CC</th>\n",
       "    </tr>\n",
       "  </thead>\n",
       "  <tbody>\n",
       "    <tr>\n",
       "      <th>0</th>\n",
       "      <td>AL</td>\n",
       "      <td>2020-04-04</td>\n",
       "      <td>0</td>\n",
       "      <td>2020-03-28</td>\n",
       "      <td>0.0</td>\n",
       "      <td>0.0</td>\n",
       "    </tr>\n",
       "    <tr>\n",
       "      <th>1</th>\n",
       "      <td>AK</td>\n",
       "      <td>2020-04-04</td>\n",
       "      <td>0</td>\n",
       "      <td>2020-03-28</td>\n",
       "      <td>0.0</td>\n",
       "      <td>0.0</td>\n",
       "    </tr>\n",
       "  </tbody>\n",
       "</table>\n",
       "</div>"
      ],
      "text/plain": [
       "  State    Rptdate  PUA IC Reflect Date  PUA CC  PEUC CC\n",
       "0    AL 2020-04-04       0   2020-03-28     0.0      0.0\n",
       "1    AK 2020-04-04       0   2020-03-28     0.0      0.0"
      ]
     },
     "metadata": {},
     "output_type": "display_data"
    },
    {
     "name": "stdout",
     "output_type": "stream",
     "text": [
      "weekly_pandemic_claims.xlsx\n"
     ]
    }
   ],
   "source": [
    "files_before = set(os.listdir(temp_dir))\n",
    "time.sleep(1)\n",
    "el = driver.find_element_by_link_text(\"Weekly Pandemic Claims Data\")\n",
    "el.click()\n",
    "downloaded_fpath = get_downloaded_fpath(data_dir=temp_dir, files_before=files_before, file_ext=\".xlsx\", max_wait=3, verbosity=0)\n",
    "if not downloaded_fpath:\n",
    "    raise Exception(\"No downloaded file found!\")\n",
    "\n",
    "def clean_filename(fpath):\n",
    "    import re\n",
    "    head, tail = os.path.split(downloaded_fpath)\n",
    "    base, ext = os.path.splitext(tail)\n",
    "    pattern = \"(.*)(\\(\\d*\\))\"\n",
    "    match = re.match(pattern, base)\n",
    "    if  match:\n",
    "        base = match.group(1).strip()\n",
    "    new_fname = base + ext    \n",
    "    return new_fname\n",
    "  \n",
    "temp_df = pd.read_excel(downloaded_fpath)\n",
    "# remove bogus cols\n",
    "bcols = [c for c  in list(temp_df.columns) if c.startswith(\"Unnamed\")]\n",
    "print(bcols)\n",
    "if len(bcols) > 0:\n",
    "  print(\"dropping columns {0}\".format(bcols))\n",
    "  temp_df.drop(bcols, axis=1, inplace=True)\n",
    "\n",
    "display(temp_df.head(2))\n",
    "data_dir = \"./data\"\n",
    "new_fname = clean_filename(downloaded_fpath)\n",
    "new_fpath = os.path.join(data_dir, new_fname)\n",
    "print(new_fname)\n",
    "temp_df.to_csv(new_fpath, index=False)"
   ]
  },
  {
   "cell_type": "markdown",
   "metadata": {},
   "source": [
    "## Clean up"
   ]
  },
  {
   "cell_type": "code",
   "execution_count": 7,
   "metadata": {
    "ExecuteTime": {
     "end_time": "2020-11-23T20:48:27.180968Z",
     "start_time": "2020-11-23T20:48:24.809461Z"
    }
   },
   "outputs": [],
   "source": [
    "if os.path.isfile(new_fpath):\n",
    "    # stop driver and remove old directory\n",
    "    driver.quit()\n",
    "    shutil.rmtree(temp_dir)"
   ]
  },
  {
   "cell_type": "markdown",
   "metadata": {},
   "source": [
    "## Read \n",
    "Read in the spreadsheet and get rid of rows with no data for Rptdate"
   ]
  },
  {
   "cell_type": "code",
   "execution_count": 8,
   "metadata": {
    "ExecuteTime": {
     "end_time": "2020-10-30T01:00:05.886058Z",
     "start_time": "2020-10-30T01:00:05.412059Z"
    }
   },
   "outputs": [
    {
     "data": {
      "text/html": [
       "<div>\n",
       "<style scoped>\n",
       "    .dataframe tbody tr th:only-of-type {\n",
       "        vertical-align: middle;\n",
       "    }\n",
       "\n",
       "    .dataframe tbody tr th {\n",
       "        vertical-align: top;\n",
       "    }\n",
       "\n",
       "    .dataframe thead th {\n",
       "        text-align: right;\n",
       "    }\n",
       "</style>\n",
       "<table border=\"1\" class=\"dataframe\">\n",
       "  <thead>\n",
       "    <tr style=\"text-align: right;\">\n",
       "      <th></th>\n",
       "      <th>State</th>\n",
       "      <th>date</th>\n",
       "      <th>PUA IC</th>\n",
       "      <th>Reflect Date</th>\n",
       "      <th>PUA CC</th>\n",
       "      <th>PEUC CC</th>\n",
       "    </tr>\n",
       "  </thead>\n",
       "  <tbody>\n",
       "    <tr>\n",
       "      <th>4343</th>\n",
       "      <td>WV</td>\n",
       "      <td>2021-10-23</td>\n",
       "      <td>0</td>\n",
       "      <td>NaN</td>\n",
       "      <td>NaN</td>\n",
       "      <td>NaN</td>\n",
       "    </tr>\n",
       "    <tr>\n",
       "      <th>4344</th>\n",
       "      <td>WI</td>\n",
       "      <td>2021-10-23</td>\n",
       "      <td>18</td>\n",
       "      <td>NaN</td>\n",
       "      <td>NaN</td>\n",
       "      <td>NaN</td>\n",
       "    </tr>\n",
       "    <tr>\n",
       "      <th>4345</th>\n",
       "      <td>WY</td>\n",
       "      <td>2021-10-23</td>\n",
       "      <td>0</td>\n",
       "      <td>NaN</td>\n",
       "      <td>NaN</td>\n",
       "      <td>NaN</td>\n",
       "    </tr>\n",
       "  </tbody>\n",
       "</table>\n",
       "</div>"
      ],
      "text/plain": [
       "     State        date  PUA IC Reflect Date  PUA CC  PEUC CC\n",
       "4343    WV  2021-10-23       0          NaN     NaN      NaN\n",
       "4344    WI  2021-10-23      18          NaN     NaN      NaN\n",
       "4345    WY  2021-10-23       0          NaN     NaN      NaN"
      ]
     },
     "metadata": {},
     "output_type": "display_data"
    }
   ],
   "source": [
    "data_dir = \"./data\"\n",
    "new_fpath = os.path.join(data_dir, new_fname)\n",
    "states_df = pd.read_csv(new_fpath)\n",
    "states_df = states_df[states_df['Rptdate'].notna()]\n",
    "states_df.rename(columns={\"Rptdate\":\"date\"}, inplace=True)\n",
    "display(states_df.tail(3))"
   ]
  },
  {
   "cell_type": "code",
   "execution_count": 9,
   "metadata": {},
   "outputs": [
    {
     "name": "stdout",
     "output_type": "stream",
     "text": [
      "all the data cols [['PUA IC', 'PUA CC', 'PEUC CC']] are numeric\n"
     ]
    }
   ],
   "source": [
    "# can't remember why I needed thos\n",
    "# must have encountered non-numeric or object columns in the data\n",
    "data_cols = [c for c in states_df.columns if re.search(\"CC|IC\", c)]\n",
    "ocols = []\n",
    "for col in data_cols:\n",
    "    if states_df[col].dtype == 'object':\n",
    "        ocols.append(col)\n",
    "if not ocols:\n",
    "    print(f\"all the data cols [{data_cols}] are numeric\")\n",
    "else:\n",
    "    # try to convert object columns to numeric\n",
    "    numeric_rows = states_df[data_cols].apply(lambda x: pd.Series(x).str.isnumeric(), axis=0).all(axis=1)\n",
    "    print(f\"found {0} non numeric rows\".format(states_df.shape[0]-numeric_rows))\n",
    "    states_df = states_df.loc[numeric_rows]\n",
    "    print(f\"{ocols} are object, should be numeric\")\n",
    "    for col in ocols: \n",
    "        states_df[col] = states_df[col].astype(float)"
   ]
  },
  {
   "cell_type": "code",
   "execution_count": 10,
   "metadata": {},
   "outputs": [],
   "source": [
    "# agg state datta to create US level data\n",
    "states_df['date'] = pd.to_datetime(states_df['date'])\n",
    "us_df = states_df.drop(labels=[\"State\"], axis=1).groupby(by='date')\n",
    "us_df = us_df.sum(min_count=1)\n",
    "us_df.dropna(how=\"any\", inplace=True)\n",
    "#us_df.tail()\n",
    "us_df.to_csv(os.path.join(\"./data\", \"us_pau_claims.csv\"))"
   ]
  },
  {
   "cell_type": "markdown",
   "metadata": {},
   "source": [
    "## Plot\n",
    "For now I'm not interested in the state breakdown so I'll aggregate to US level\n",
    "and also separte out Initial Claims, IC, from Continued Claims, CC.\n",
    "Partly because the CC values are about 10x the IC values so easier to see and check the IC data if plotted alone. \n",
    "Also because there is data on 2 different special programs for CC."
   ]
  },
  {
   "cell_type": "code",
   "execution_count": 11,
   "metadata": {
    "ExecuteTime": {
     "end_time": "2020-10-30T01:00:06.644903Z",
     "start_time": "2020-10-30T01:00:05.914060Z"
    }
   },
   "outputs": [
    {
     "data": {
      "text/html": [
       "<div>\n",
       "<style scoped>\n",
       "    .dataframe tbody tr th:only-of-type {\n",
       "        vertical-align: middle;\n",
       "    }\n",
       "\n",
       "    .dataframe tbody tr th {\n",
       "        vertical-align: top;\n",
       "    }\n",
       "\n",
       "    .dataframe thead th {\n",
       "        text-align: right;\n",
       "    }\n",
       "</style>\n",
       "<table border=\"1\" class=\"dataframe\">\n",
       "  <thead>\n",
       "    <tr style=\"text-align: right;\">\n",
       "      <th></th>\n",
       "      <th>date</th>\n",
       "      <th>PUA CC</th>\n",
       "      <th>PEUC CC</th>\n",
       "      <th>CC Tot</th>\n",
       "    </tr>\n",
       "  </thead>\n",
       "  <tbody>\n",
       "    <tr>\n",
       "      <th>76</th>\n",
       "      <td>2021-09-18</td>\n",
       "      <td>1059248.0</td>\n",
       "      <td>991813.0</td>\n",
       "      <td>2051061.0</td>\n",
       "    </tr>\n",
       "    <tr>\n",
       "      <th>77</th>\n",
       "      <td>2021-09-25</td>\n",
       "      <td>647690.0</td>\n",
       "      <td>630814.0</td>\n",
       "      <td>1278504.0</td>\n",
       "    </tr>\n",
       "    <tr>\n",
       "      <th>78</th>\n",
       "      <td>2021-10-02</td>\n",
       "      <td>549103.0</td>\n",
       "      <td>440435.0</td>\n",
       "      <td>989538.0</td>\n",
       "    </tr>\n",
       "    <tr>\n",
       "      <th>79</th>\n",
       "      <td>2021-10-09</td>\n",
       "      <td>517949.0</td>\n",
       "      <td>331567.0</td>\n",
       "      <td>849516.0</td>\n",
       "    </tr>\n",
       "    <tr>\n",
       "      <th>80</th>\n",
       "      <td>2021-10-16</td>\n",
       "      <td>270013.0</td>\n",
       "      <td>244379.0</td>\n",
       "      <td>514392.0</td>\n",
       "    </tr>\n",
       "  </tbody>\n",
       "</table>\n",
       "</div>"
      ],
      "text/plain": [
       "         date     PUA CC   PEUC CC     CC Tot\n",
       "76 2021-09-18  1059248.0  991813.0  2051061.0\n",
       "77 2021-09-25   647690.0  630814.0  1278504.0\n",
       "78 2021-10-02   549103.0  440435.0   989538.0\n",
       "79 2021-10-09   517949.0  331567.0   849516.0\n",
       "80 2021-10-16   270013.0  244379.0   514392.0"
      ]
     },
     "metadata": {},
     "output_type": "display_data"
    },
    {
     "name": "stdout",
     "output_type": "stream",
     "text": [
      "Plotting IC\n",
      "Plotting CC\n"
     ]
    },
    {
     "data": {
      "image/png": "[encoded data removed]",
      "text/plain": [
       "<Figure size 864x432 with 2 Axes>"
      ]
     },
     "metadata": {
      "needs_background": "light"
     },
     "output_type": "display_data"
    }
   ],
   "source": [
    "ic_df = us_df[['PUA IC']].reset_index()\n",
    "cc_df = us_df.drop('PUA IC', axis=1).reset_index()\n",
    "cc_df['CC Tot'] = cc_df[[\"PUA CC\",\"PEUC CC\"]].sum(axis=1, skipna=False)\n",
    "display(cc_df.tail())\n",
    "weekly_dfs = {\"IC\":ic_df, \"CC\":cc_df}\n",
    "\n",
    "figwd = 12\n",
    "fight= 6\n",
    "fig, axs = plt.subplots(nrows=2, ncols=1, figsize=[figwd, fight], sharex=True)\n",
    "for i, key in enumerate(weekly_dfs.keys()):\n",
    "    print(f\"Plotting {key}\")\n",
    "    ax = axs[i]\n",
    "    weekly_dfs[key].plot(ax=ax, x='date',  kind='line', linestyle='-', marker='o', lw=1, title=key,\n",
    "               mec='red', mfc='black', ms=0.75, legend=True, label=None, grid=True)"
   ]
  },
  {
   "cell_type": "code",
   "execution_count": null,
   "metadata": {},
   "outputs": [],
   "source": []
  }
 ],
 "metadata": {
  "kernelspec": {
   "display_name": "payems",
   "language": "python",
   "name": "payems"
  },
  "language_info": {
   "codemirror_mode": {
    "name": "ipython",
    "version": 3
   },
   "file_extension": ".py",
   "mimetype": "text/x-python",
   "name": "python",
   "nbconvert_exporter": "python",
   "pygments_lexer": "ipython3",
   "version": "3.9.2"
  }
 },
 "nbformat": 4,
 "nbformat_minor": 4
}
