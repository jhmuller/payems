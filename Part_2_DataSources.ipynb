{
 "cells": [
  {
   "cell_type": "markdown",
   "metadata": {},
   "source": [
    "# Part 2 - Data Sources \n",
    "\n",
    "- toc: True\n",
    "- badges: true\n",
    "- comments: true\n",
    "- categories: [jupyter]\n"
   ]
  },
  {
   "cell_type": "markdown",
   "metadata": {},
   "source": [
    "## Fred - the one stop shop\n",
    "You can get the current value and some historical values from the BLS site, but I am going to\n",
    "use a different source, the St. Federal Reserve Economic Data site referred to as\n",
    "<a target=\"_blank\" href=\"https://fred.stlouisfed.org/\"> FRED </a>.\n",
    "FRED is a great resource for all kinds of economic data and they have an API you can use\n",
    "to get the data.  So I will get both the target variable, i.e. the private jobs number, as well as many of the\n",
    "predictor variables from FRED.\n",
    "\n",
    "So what to use for predictor variables. One obvious choice is past values of the private jobs number.\n",
    "Past values of the unemployment numbers might also be helpful.\n",
    "There is another publication from the BLS called the\n",
    "<a target=\"_blank\" href=\"https://www.bls.gov/jlt/home.htm\">JOLTS</a> report for Job Openings and Labor Turnover Survey.\n",
    "<a target=\"_blank\" href=\"https://www.bls.gov/news.release/jolts.toc.htm\">This</a>\n",
    "  should get you to the latest release.\n",
    "I will use 3 values from that report, job openings, hirings and separations.\n",
    "We have to be careful with this one since it is published with a longer lag than the\n",
    "main jobs report.  For example, the JOLTS report for August comes out in October\n",
    "whereas the Employment Situation report for August comes out in September.\n",
    "We can get the JOLTS data from FRED.\n",
    "\n",
    "The BLS is part of the US <a target=\"_blank\" href=\"https://www.dol.gov/\">Department of Labor</a>.\n",
    "Another division of the Department of Labor produces weekly\n",
    "<a target=\"_blank\" href=\"https://www.dol.gov/ui/data.pdf\">reports </a> on initial and continued\n",
    "unemployment insurance claims.\n",
    "The claims data is published weekly so we will have to deal with data at different frequencies.\n",
    "And guess what ... we can get those from FRED.\n",
    "\n",
    "\n",
    "There is a payroll processing company called ADP that produces something similar to the jobs numbers\n",
    "based on their proprietary data, but they don't have estimates for government jobs which is why\n",
    "I am only targeting the private number. More about the ADP estimates <a target=\"_blank\" href=\"https://adpemploymentreport.com/\">here</a>.\n",
    "The ADP report comes out near the end of the month often just days before the BLS report.\n",
    "It is intended to be a predictor of the BLS values ... so we will see.\n",
    "And you can get the ADP values from FRED.\n",
    "\n",
    "\n",
    "## University of Michigan Consumer Sentiment\n",
    "\n",
    "Note that most of the predictor variables I have listed so far are backward looking.\n",
    "They tell us about the sate of the world at some point in the past.\n",
    "It would be nice to have some forward looking indicators, like expectations.\n",
    "One source of that is the University of Michigan survey of consumer sentiment.\n",
    "The Michigan survey includes 3 questions that are forward looking, see the survey\n",
    "methodology document\n",
    "<a target=\"_blank\" href=\"https://data.sca.isr.umich.edu/survey-info.php\">here</a>.\n",
    "I think questions 2 through 4 look like they might be good to use so I will.\n",
    "Now we can get the aggregate value on Fred although with a one month lag.\n",
    "Anyway, I don't think the components are on FRED so I will\n",
    "download them from the Michigan website <a target=\"_blank\" href=\"https://data.sca.isr.umich.edu/data-archive/mine.php\">here</a>.\n",
    "\n",
    "## Google Trends\n",
    "\n",
    "And now for something completely different, <a target=\"_blank\" href=\"https://trends.google.com/trends\"> Google Trends</a>\n",
    "Part of the reason my interest in this project was revived was that I found a paper titled\n",
    "<em> In Search of a Job: Forecasting Employment Growth Using Google Trends </em>\n",
    "about using Google Trends to predict the employment numbers and I wanted to try it out myself.\n",
    "The SSRN version of the paper is <a target=\"_blank\" href=\"https://papers.ssrn.com/sol3/papers.cfm?abstract_id=3423124\"> here </a>.\n",
    "The basic idea is that the relative demand for search terms such as \"jobs\" might be an indicator of\n",
    "how many people are looking for work. But what other terms should we use other than \"jobs\".\n",
    "The papers suggests using Google's Keyword Planner to find other related terms.\n",
    "It should be fun.\n",
    "\n",
    "## Other Sources \n",
    "I'm sure there are many other variables I could use.  A researcher from the The St. Louis Fed maintains a special set of over 100 monthly economic variables\n",
    "mainly for researchers to use.  Read about it \n",
    "<a target=\"_blank\" href=\"https://research.stlouisfed.org/wp/more/2015-012\"> here.</a>\n",
    "I don't want to use that since I believe it has the updated values of releases, not the original values.\n",
    "I want to use the values that first came out in case there were revisions.\n",
    "\n",
    "The <a target=\"_blank\" href=\"https://www.conference-board.org/us/\">Conference Board</a> is the source of some widely used economic data including the Leading Economic Indicators.\n",
    "I am not going to use those since I belive you have to subscribe to get them."
   ]
  }
 ],
 "metadata": {
  "kernelspec": {
   "display_name": "Python 3",
   "language": "python",
   "name": "python3"
  },
  "language_info": {
   "codemirror_mode": {
    "name": "ipython",
    "version": 3
   },
   "file_extension": ".py",
   "mimetype": "text/x-python",
   "name": "python",
   "nbconvert_exporter": "python",
   "pygments_lexer": "ipython3",
   "version": "3.7.9"
  }
 },
 "nbformat": 4,
 "nbformat_minor": 4
}




